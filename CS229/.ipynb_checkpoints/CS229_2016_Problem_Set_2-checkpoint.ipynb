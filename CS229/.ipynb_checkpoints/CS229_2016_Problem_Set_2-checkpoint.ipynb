{
 "cells": [
  {
   "cell_type": "markdown",
   "metadata": {},
   "source": [
    "**Question 2**\n",
    "\n",
    "(a) Suppose that $VC(H_1) = d > VC(H_2)$. This means that there is some $h_1 \\in H_1$ which can realise all the labellings on a set of size $> VC(H_2)$. But since $H_1 \\subseteq H_2$, then $\\forall h \\in H_1, h \\in H_2$, so any such hypothesis $h_1$ must be in $H_2$ as well but that means that $VC(H_2) = d$, which is a contradiction, proving that $VC(H_1) \\leq VC(H_2)$.\n",
    "\n",
    "\n",
    "(b) \n",
    "We have situation where $H_1 = H_2 \\cup \\{h_1,..,h_k\\}$. We are asked if it is the case that $VC(H_1) \\leq VC(H_2) + k$. Suppose that $k = 1$. In the case that the inequality does not hold, we would require that $h_1$ was capable of realising one possible set of labellings on a set of size $VC(H_2) + 2$ and also one possible set of labellings on a set of size $VC(H_2) + 1$ since $H_2$ cannot shatter a set of size greater than $VC(H_2)$. \n",
    "\n",
    "Note that for a given set of points, since a hypothesis is a function, a single hypothesis can't realise two possible labellings since there must be some $x^{(i)}$ such that $y_p^{(i)} \\neq y_q^{(i)}$. If $h_p(x^{(i)}) = y_p^{(i)}$, then $h_p(x^{(i)}) \\neq y_q^{(i)}$. What this means is that there must be a hypothesis for each set of labellings within the class. \n",
    "\n",
    "\n",
    "Let $VC(H_2) = d$. By the (a) above VC(H_1) \\geq VC(H_2). If we regard a set of points $X$ and each set of labellings as some $y_j$, then each hypothesis $h_j$ is like an arrow mapping $X$ to $y_j$. \n",
    "\n",
    "The belong relies on the assumption that we are considering the binary labellings. \n",
    "\n",
    "If $VC(H_2 \\cup h_1) \\geq d + 2$ then $H_2$ must realise at least $2^{d+2}-1$ different mappings since $h_1$ can only add one further mapping. Consider a point in $X$, $x^{(p)}$. For $H_1$ have a VC dimension of more than $d+2$, it must realise $2$ mappings for $x^{(p)}$ times $2^{n}$ mappings for the remainder where $n > d$. $H_2$ must realise all but one these mappings. Suppose without loss of generality that it attains all the mappings where $y^{(p)} = 0$ but can't realise one of the mappings where $y^{(p)} = 1$. If we now take the set of mappings where $y^{(p)} = 0$ and disregard $(x^{(p)}, y^{(p)})$ we are left with a set of $2^{n}$ different mappings for the remaining $n$ points - which is all the possible labellings that a set of points of this size can have. But that implies that $H_2$ can shatter a size of set $n$ which in turn implies that $VC(H_2) \\geq n > d$ which is a contradiction showing that adding a single hypothesis cannot increase the $VC$ dimension of the newly formed set by more than 1. \n",
    "\n",
    "This can be used as a base case for $k=1$. Then by induction, if adding $k-1$ hypotheses increases the VC dimension to at most $VC(H_2) + k-1$, then adding a further hypothesis, thus $k$ in total, increases it by at most $VC(H_2) + k-1 + 1 = VC(H_2) + k$.\n",
    "\n",
    "I have not claimed the fact that $h$ can realise a single labelling as the reason that the VC-dimension can increase at most by one. I have relied on it to argue that the remaining $2^{n+1} - 1$ where $n > d$ labellings - which $H_1$ must realise for it to have a VC-dimension of at least $d + 2$  - must be realised by $H_2$. I then shown that if $H_2$ can realise $2^{n+1} - 1$ different mappings then it can realise $2^{n}$ different mappings making it capable of shattering a set of size $n > d$, which is a contradiction.\n",
    "\n",
    "(c)\n",
    "We have a situation where $H_1 = H_2 \\cup H_3$. We are asked whether $VC(H_1) \\leq VC(H_2) + VC(H_3)$. Consider the case where $H_2 = \\{h_{2,0}\\}$ where $h_{2,0}(x_0) = 0$ and $h_{2,0}(x_1) = 1$. The VC-dimension of this is $0$ since it can only realise one possible labelling for any set of points (even a single point has $2$ possible labellings). Now consider $H = \\{h_{3,0}, h_{3,1}, h_{3,2}\\}$ where the following is true:\n",
    "\n",
    "- $h_{3,0}(x_0) = 0$ and $h_{3,0}(x_1) = 1$\n",
    "- $h_{3,1}(x_0) = 1$ and $h_{3,1}(x_1) = 0$\n",
    "- $h_{3,2}(x_0) = 1$ and $h_{3,2}(x_1) = 1$\n",
    "\n",
    "If we let $X = \\{x_0\\}$ or $X = \\{x_1\\}$, then $H_3$ can realise all the possible labellings ($2$ in total) for $X$ so that its VC-dimension is 1. Now if we combine $H_2$ with $H_3$ we have a set of classifiers that can realise all the four possible labellings $\\{00,01,10,11\\}$ for $X = \\{x_0, x_1\\}$ so that its VC-dimension is $2$. This means that $VC(H_1) = 2 > VC(H_2) + V(H_3) = 0 + 1 = 1$. Thus it is not always true that $VC(H_1) \\leq VC(H_2) + VC(H_3)$. An even similar case is if $H_2 = \\{h_{2}\\}$ where $h_{2}(x_0)$ and $H_3 = \\{h_{3}\\}$ where $h_{3}(x_0)$ so that $VC(H_1) = 1 > VC(H_2) + V(H_3) = 0 + 0 = 0$"
   ]
  },
  {
   "cell_type": "code",
   "execution_count": null,
   "metadata": {
    "collapsed": true
   },
   "outputs": [],
   "source": []
  }
 ],
 "metadata": {
  "kernelspec": {
   "display_name": "Python 3",
   "language": "python",
   "name": "python3"
  },
  "language_info": {
   "codemirror_mode": {
    "name": "ipython",
    "version": 3
   },
   "file_extension": ".py",
   "mimetype": "text/x-python",
   "name": "python",
   "nbconvert_exporter": "python",
   "pygments_lexer": "ipython3",
   "version": "3.5.2"
  }
 },
 "nbformat": 4,
 "nbformat_minor": 0
}
