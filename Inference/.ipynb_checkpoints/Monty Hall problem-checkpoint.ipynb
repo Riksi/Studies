{
 "cells": [
  {
   "cell_type": "markdown",
   "metadata": {},
   "source": [
    "This is a famous or infamous problem using probability theory which can be quite confusing. Here is an attempt at a fully worked out solution that doesn't expect you to have intuition for what is going on."
   ]
  },
  {
   "cell_type": "markdown",
   "metadata": {},
   "source": [
    "There are three doors, numbered 1 to 3, one of which has a car behind it and the other have goats behind them, out of which you pick one door. Let us say you pick door 1. This is without loss of generality as what follows would be true for any other choice of door. \n",
    "\n",
    "Then Monty opens either door 2 or 3 to reveal a goat.\n",
    "\n",
    "Suppose - again without loss of generality - that Monty picks door 3. \n",
    "\n",
    "You need to decide, given what has taken place, whether to switch to door 2.\n",
    "\n",
    "Let $X$ be an random variable which can assume values $1,2$, or $3$ depending on the door behind which the car is found. Since the car is equally likely to be behind each door, we have that $P(X = i) = \\frac{1}{3}$\n",
    "\n",
    "What you want to know is, given that:\n",
    "\n",
    "1.  You have selected door 1\n",
    "2.  Monty has opened door 3\n",
    "\n",
    "what are the probabilities that $X=1$ and that $X=2$. Your selection is not a random variable but it is an event on which we need to condition the probabilities. We can regard Monty's selection as a random variable. Suppose that the car is behind door 1, then imagine Monty tossing a coin to pick a door which means he is equally likely to select either of the other two doors. Otherwise, Monty will the other door which has the goat behind it. \n",
    "\n",
    "Let $M$ be an random variable which can assume values $1,2$, or $3$ depending on the door opened by Monty. Let $s_i$ where $i \\in \\{1,2,3\\}$ indicate your door selection. \n",
    "\n",
    "We want to calculate the following:\n",
    "\n",
    "$$P(X = 1|M = 3, s_1) \\text{ and } P(X = 2|s_1, M = 3, s_1)$$\n",
    "\n",
    "Using Bayes rule:\n",
    "\n",
    "$$P(X = i|M = 3, s_1) = \\frac{P(M = 3|X = i, s_1)P(X = i, s_1)}{P(M = 3)}$$\n",
    "\n",
    "Let us consider the different probabilities on the right hand side. $P(X = i, s_1)$ is simple since the fact that you have made a choice of a certain door has no effect on the probabilities that the prize will be behind any of the other doors so that $P(X = i, s_1) = P(X = i) = \\frac{1}{3}$. \n",
    "\n",
    "What about $P(M = 3|X = i, s_1)$? We need to evaluate this term for $X = 1$ and $X = 2$. Obviously $P(M = 3|X = 3, s_1) = 0$ since Monty won't open a door that has car behind it.\n",
    "\n",
    "First consider $P(M = 3|X = 1, s_1)$. If $X = 1$ and you have selected this door, then Monty is equally likely to open each of the other doors which means that $P(M = 3|X = 1, s_1) = \\frac{1}{2}$. On the other hand if in fact $X = 2$, then Monty is guaranteed to select door 3 so that $P(M = 3|X = 1, s_1) = 1$.\n",
    "\n",
    "What about the denominator, $P(M = 3|s_1)$. Ok I said I won't rely on intuition but you may well think that, given that there are two other doors and you don't know where the car actually is the probability that Monty picks either of the two doors is the same i.e. that $P(M = 3|s_1) = \\frac{1}{2}$.\n",
    "\n",
    "Let us write this out:\n",
    "\n",
    "$$P(M =3|s_1) = P(M = 3|X = 1, s_1)P(X = 1, s_1) + P(M = 3|X = 3, s_1)P(X = 3, s_1)\\\\\n",
    "= \\frac{1}{2}*\\frac{1}{3} + 1*\\frac{1}{3} = \\frac{1}{2}$$  \n",
    "\n",
    "Now we can find $$P(X = 1|M = 3, s_1) \\text{ and } P(X = 2|s_1, M = 3, s_1)$$ as follows:\n",
    "\n",
    "$$P(X = 1|M = 3, s_1) = \\frac{P(M = 3|X = 1, s_1)P(X = 1, s_1)}{P(M = 3)} = \\frac{\\frac{1}{2}*\\frac{1}{3}}{\\frac{1}{2}} = \\frac{1}{3}$$\n",
    "\n",
    "$$P(X = 2|M = 3, s_1) = \\frac{P(M = 3|X = 2, s_1)P(X = 3, s_1)}{P(M = 3)} = \\frac{1*\\frac{1}{3}}{\\frac{1}{2}} = \\frac{2}{3}$$\n",
    "\n",
    "This means that you should switch since you have a better chance of finding the car behind door 2 compared to door 1, given your initial choice and Monty's selection. There was actually no need explicitly to calculate these terms since it is enough to know the ratio of the two probabilities i.e. the odds.\n",
    "$$\\frac{P(M = 3|X = 2, s_1)P(X = 2, s_1)}{P(M = 3|X = 1, s_1)P(X = 1, s_1)}$$\n",
    "\n",
    "However explicitly writing out $P(M = 3|s_1)$ makes clear the asymmetric contributions of the situations where $X=1$ and $X=2$ - which is key to the non-intuitive result."
   ]
  },
  {
   "cell_type": "markdown",
   "metadata": {},
   "source": [
    "The result importantly depends on the fact that the probability that a particular door is opened is affected by the door selected by the contestant as well as the one behind which the prize is found. Suppose Monty had a sudden attack of amnesia and forgot all the rules and just picked a door at random. In that case $P(M = i|X = j, s_k) = \\frac{1}{3}$ for all $i,j,k$ which means that $D$ is independent of the choice of door and the prize location i.e. $P(M = i|X = j, s_k) = P(M = i)$.\n",
    "\n",
    "Suppose however that the selected door - say door 3 - does not contain the prize so we want to know $P(X = i|M = 3, X \\neq 3, s_1)$. For $i \\in \\{1,2\\}$ it turns out be:\n",
    "\n",
    "$$P(X = i|M = 3, X \\neq 3, s_1) = \\frac{P(M = 3|X = i, X \\neq 3, s_1)P(X = i| X \\neq 3, s_1)}{P(M = 3|X \\neq 3, s_1)}$$\n",
    "\n",
    "Since $M$ does not depend on the contestant's choice or prize location $P(M = 3|X = i, X \\neq 3, s_1) = P(M = 3|X = i, s_1) = P(M = 3) = \\frac{1}{3}$. Thus $P(X = i|M = 3, X \\neq 3, s_1) = P(X = i| X \\neq 3, s_1) = P(X = i| X \\neq 3) = \\frac{1}{2}$ since now the prize is equally likely to be behind either of the two doors. \n",
    "\n",
    "Thus:\n",
    "\n",
    "$$P(X = 1|M = 3, X \\neq 3, s_1) = P(X = 2|M = 3, X \\neq 3, s_1) = \\frac{1}{2}$$\n",
    "\n",
    "which means that there is no advantage to switching.\n"
   ]
  },
  {
   "cell_type": "markdown",
   "metadata": {},
   "source": [
    "Let us see this in simulation:"
   ]
  },
  {
   "cell_type": "code",
   "execution_count": 11,
   "metadata": {
    "collapsed": true
   },
   "outputs": [],
   "source": [
    "import numpy as np\n",
    "import matplotlib.pyplot as plt\n",
    "%matplotlib inline"
   ]
  },
  {
   "cell_type": "code",
   "execution_count": 29,
   "metadata": {
    "collapsed": true
   },
   "outputs": [],
   "source": [
    "num_trials = np.logspace(2,5,100)"
   ]
  },
  {
   "cell_type": "code",
   "execution_count": 37,
   "metadata": {
    "collapsed": false
   },
   "outputs": [],
   "source": [
    "#The original problem\n",
    "means = []\n",
    "\n",
    "for i in num_trials:\n",
    "    locs = np.random.randint(1,4,int(i))\n",
    "    choices = np.array([np.random.randint(2,4) if (loc == 1) else (3 - (loc == 3)) for loc in locs])\n",
    "    means.append(np.mean(locs[np.where(choices == 3)]==2))"
   ]
  },
  {
   "cell_type": "code",
   "execution_count": 38,
   "metadata": {
    "collapsed": false
   },
   "outputs": [
    {
     "data": {
      "text/plain": [
       "[<matplotlib.lines.Line2D at 0x10af2b6a0>]"
      ]
     },
     "execution_count": 38,
     "metadata": {},
     "output_type": "execute_result"
    },
    {
     "data": {
      "image/png": "[encoded data removed]",
      "text/plain": [
       "<matplotlib.figure.Figure at 0x10af2bc18>"
      ]
     },
     "metadata": {},
     "output_type": "display_data"
    }
   ],
   "source": [
    "plt.hlines(xmin=0,xmax=100000,y=2./3,color='r')\n",
    "plt.plot(num_trials, means)"
   ]
  },
  {
   "cell_type": "code",
   "execution_count": 39,
   "metadata": {
    "collapsed": false
   },
   "outputs": [],
   "source": [
    "#The original problem\n",
    "means = []\n",
    "num_trials = np.logspace(1,5)\n",
    "\n",
    "for i in num_trials:\n",
    "    locs = np.random.randint(1,4,int(i))\n",
    "    choices = np.array([np.random.randint(1,4) for loc in locs])\n",
    "    locs3 = locs[np.where(choices == 3)]\n",
    "    valid_locs3 = locs3[np.where(locs3 != 3)]\n",
    "    means.append(np.mean(valid_locs3 == 2))"
   ]
  },
  {
   "cell_type": "code",
   "execution_count": 40,
   "metadata": {
    "collapsed": false
   },
   "outputs": [
    {
     "data": {
      "text/plain": [
       "[<matplotlib.lines.Line2D at 0x10cd942e8>]"
      ]
     },
     "execution_count": 40,
     "metadata": {},
     "output_type": "execute_result"
    },
    {
     "data": {
      "image/png": "[encoded data removed]",
      "text/plain": [
       "<matplotlib.figure.Figure at 0x10cd94a58>"
      ]
     },
     "metadata": {},
     "output_type": "display_data"
    }
   ],
   "source": [
    "plt.hlines(xmin=0,xmax=100000,y=1./2,color='r')\n",
    "plt.plot(num_trials, means)"
   ]
  }
 ],
 "metadata": {
  "kernelspec": {
   "display_name": "Python 3",
   "language": "python",
   "name": "python3"
  },
  "language_info": {
   "codemirror_mode": {
    "name": "ipython",
    "version": 3
   },
   "file_extension": ".py",
   "mimetype": "text/x-python",
   "name": "python",
   "nbconvert_exporter": "python",
   "pygments_lexer": "ipython3",
   "version": "3.5.2"
  }
 },
 "nbformat": 4,
 "nbformat_minor": 0
}
