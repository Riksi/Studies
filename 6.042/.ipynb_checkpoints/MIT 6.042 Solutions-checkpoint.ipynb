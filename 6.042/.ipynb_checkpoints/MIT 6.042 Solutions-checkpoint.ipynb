{
 "cells": [
  {
   "cell_type": "markdown",
   "metadata": {},
   "source": [
    "**Please refer to https://ocw.mit.edu/courses/electrical-engineering-and-computer-science/6-042j-mathematics-for-computer-science-spring-2015/readings/ for full problem descriptions**"
   ]
  },
  {
   "cell_type": "markdown",
   "metadata": {},
   "source": [
    "# Chapter 6"
   ]
  },
  {
   "cell_type": "markdown",
   "metadata": {},
   "source": [
    "**Problem 6.7**"
   ]
  },
  {
   "cell_type": "markdown",
   "metadata": {},
   "source": [
    "![](P6_7_1.png)"
   ]
  },
  {
   "cell_type": "markdown",
   "metadata": {
    "collapsed": true
   },
   "source": [
    "![](P6_7_2.png)"
   ]
  },
  {
   "cell_type": "markdown",
   "metadata": {
    "collapsed": true
   },
   "source": [
    "**Problem 6.18**"
   ]
  },
  {
   "cell_type": "markdown",
   "metadata": {},
   "source": [
    "(a)```eval(subst(3x, x(x-1)),2) ```\n",
    "\n",
    "1. Using Environment Model:\n",
    "    ```\n",
    "    eval(subst(3x, x(x-1)),2)\n",
    "    = eval(x(x-1),eval(3x,2)) \n",
    "    = eval(x(x-1), eval(3,2)*eval(x,2)) --- recursive definition for multiplication\n",
    "    = eval(x(x-1), 3*2)\n",
    "    = eval(x(x-1), 6)\n",
    "    = eval(x,6)*eval(x-1,6)\n",
    "    = 6*(eval(x,6) + eval(-(1),6)) --- recursive defintion for addition\n",
    "    = 6*(6 - eval(1,6) --- recursive defintion for negation\n",
    "    = 6*(6 - 1) \n",
    "    = 6*5\n",
    "    = 30\n",
    "    ```\n",
    "    \n",
    "2. Using Substitution Model:\n",
    "    ```\n",
    "    eval(subst(3x, x(x-1)),2)) \n",
    "    = eval(3x(3x - 1),2) [The result of subst is from the example on page 194]\n",
    "    = eval(3x, 2)*eval(3x - 1,2) --- recursive definition for multiplication\n",
    "    = eval(3,2)*eval(x,2)*(eval(3x,2) + eval(-1,2)) --- recursive defintion for addition\n",
    "    = 3*2*(eval(3,2)*eval(x,2) - eval(1,2)) --- recursive defintion for negation\n",
    "    = 6*(3*2 - 1)\n",
    "    = 6*(6 - 1)\n",
    "    = 6*5\n",
    "    = 30\n",
    "    ```\n",
    "\n",
    "If multiplication refers to the base case involving just the primitives (i.e. variables or numbers - here just numbers), then there are 2 in the first (3\\*2, 6\\*5) and 3 in the second (3\\*2 twice, 6\\*5) (or 3 and 4 if instead of 6*5 we have 6*6 - 6*1)\n",
    "\n",
    "Not sure what they mean by look-up but it may mean eval(f,n) i.e. where you are left with the base case for eval and you could think of this as looking up the value of f and finding it to be n. If this does not include eval(k,n) then there are eval(x,2), eval(x,6) twice in the first plus eval(x,2) twice in the second. So the Environment model has 1 more look-up than the Substitution model. If this also includes eval(k,n), where k is in a n integer (and thus eval(k,n) = k) then there are also eval(3,2) and eval(1,6) in the first and two of eval(3,2) plus eval(1,2) in the second, which would amount to the same number (6) for each."
   ]
  },
  {
   "cell_type": "markdown",
   "metadata": {},
   "source": [
    "(b) In the expression ```eval(subst(7x,x^7),9)``` (here we use the power notation as a convenient short-hand as done in the text even though exponents are not allowed in Aexp) the Environment model would result in evaluating ```eval(x^7, eval(7x,9))``` which would give you 7 multiplications (6 in x^7 plus one in 7x). However in the Substitution model you would evaluate ```eval(7x^7,9) = eval(7x,9)^7``` again using the exponent as a short-hand, which would entail a multiplication within each of the 7x's (7 of them) plus 6 multiplications between the 7x's so 13 in total and 6 more than for the Environment model."
   ]
  },
  {
   "cell_type": "markdown",
   "metadata": {},
   "source": [
    "(c) Suppose that you have ```eval(subst(x^7,7),9)```, then using the Environment model you would consider ```eval(7,eval(x^7,9)``` which would involve 6 multiplications for ```eval(x^7,9) = eval(x,9)^7```. However using the rule ```subst(f,k) = k``` the Substitution model would give you ```eval(7,9)``` which requires 0 multiplications. If the variable to substitute occurs n times, then there would be repeated calculations of the substitution expression in the Substitution model and the Environment method can enables you to do just one of the these calculations and reuse the result. However, here no calculation is required but the Environment model is not aware of the context in which the output of eval(expr,n) will be used so it ends up doing unnecessary calculations."
   ]
  },
  {
   "cell_type": "code",
   "execution_count": null,
   "metadata": {
    "collapsed": true
   },
   "outputs": [],
   "source": []
  }
 ],
 "metadata": {
  "kernelspec": {
   "display_name": "Python 2",
   "language": "python",
   "name": "python2"
  },
  "language_info": {
   "codemirror_mode": {
    "name": "ipython",
    "version": 2
   },
   "file_extension": ".py",
   "mimetype": "text/x-python",
   "name": "python",
   "nbconvert_exporter": "python",
   "pygments_lexer": "ipython2",
   "version": "2.7.13"
  }
 },
 "nbformat": 4,
 "nbformat_minor": 0
}
