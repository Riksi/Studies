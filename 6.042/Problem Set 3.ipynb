{
 "cells": [
  {
   "cell_type": "markdown",
   "metadata": {},
   "source": [
    "# Question 3"
   ]
  },
  {
   "cell_type": "markdown",
   "metadata": {},
   "source": [
    "**(a) If h is surjective then f must be surjective**\n",
    "\n",
    "TRUE.\n",
    "\n",
    "$$\\begin{aligned}\n",
    "\\text{ $h$ is surjective } &=>\\forall c \\in C, \\exists a \\in A \\text{ s.t. } h(a) = c\\\\\n",
    " &=>\\forall c \\in C, \\exists a \\in A \\text{ s.t. } f(g(a))= c\\\\\n",
    "&=> \\forall c \\in C, \\exists a \\in A, b \\in B \\text{ s.t. } g(a) = b \\text{ AND } f(b) = c \\\\\n",
    "&=> \\forall c \\in C, \\exists b \\in B \\text{ s.t. } f(b) = c\\\\ \n",
    "& => \\text{ $f$ is surjective}  \\end{aligned}$$\n",
    "\n",
    "\n",
    "Another way to regard this is to consider the converse. Suppose that there is some $c \\in C$ to which no $b \\in B$ maps via $f$. But this means that for no $a \\in A$ can it be that true that $h(a) = c$ since $h(a) = f(g(a)) = f(b)$ and there is no $b$ s.t. $f(b) = c$. But since $h$ is surjective this is a contradiction meaning that $f$ must also be surjective. "
   ]
  },
  {
   "cell_type": "markdown",
   "metadata": {},
   "source": [
    "**(b)  If h is surjective, then g is surjective**\n",
    "\n",
    "FALSE. See the counter example below where $g$ is injective but $h$ is surjective.\n",
    "\n",
    "```\n",
    "1 -----> 1 -----> 1\n",
    "             \n",
    "2 -----> 2 -----> 2\n",
    "             |\n",
    "3 -----> 3 ---\n",
    "\n",
    "         4\n",
    "```"
   ]
  },
  {
   "cell_type": "markdown",
   "metadata": {},
   "source": [
    "**(c) If $h$ is injective, then $f$ must be injective**\n",
    "\n",
    "FALSE. See the counter-example below where $f$ is not injective since there are two values that map to 2 but $h$ is injective. Provided that for all the sets of values $b$ where $f(b) = c$, $g$ maps at most to one value within each set, $h$ will be injective.\n",
    "\n",
    "```\n",
    "1 -----> 1 -----> 1\n",
    "             \n",
    "2 -----> 2 -----> 2\n",
    "             |\n",
    "3 ---    3 ---    3\n",
    "    |\n",
    "    |    4   ---> 4\n",
    "    |        |\n",
    "    ---> 5 ---\n",
    "\n",
    "```"
   ]
  },
  {
   "cell_type": "markdown",
   "metadata": {},
   "source": [
    "**(d) If $h$ is injective and $f$ is total, then $g$ is injective.** \n",
    "\n",
    "TRUE.\n",
    "Since $f$ is a total ($\\geq 1$ arrows out)  function ($\\leq 1$ arrows out), for each $b \\in B$ there will be exactly one $c \\in C$ s.t. $f(b) = c$. If $h$ is injective ($\\leq 1$ arrows in) then at most one $a \\in A$ maps to every $c \\in C$. Suppose that $g$ were not injective. In that case there is at least one $b \\in B$ and at least 2 $a \\in A$ s.t. $f(a) = b$ for each of these $a$. Since every $b$ maps to exactly one $c$, both of these elements of $A$ must map to one $c$ which can't be the case since $h$ is injective. Thus $g$ must be injective as well."
   ]
  },
  {
   "cell_type": "code",
   "execution_count": null,
   "metadata": {
    "collapsed": true
   },
   "outputs": [],
   "source": []
  }
 ],
 "metadata": {
  "kernelspec": {
   "display_name": "Python 2",
   "language": "python",
   "name": "python2"
  },
  "language_info": {
   "codemirror_mode": {
    "name": "ipython",
    "version": 2
   },
   "file_extension": ".py",
   "mimetype": "text/x-python",
   "name": "python",
   "nbconvert_exporter": "python",
   "pygments_lexer": "ipython2",
   "version": "2.7.13"
  }
 },
 "nbformat": 4,
 "nbformat_minor": 0
}
